{
 "cells": [
  {
   "cell_type": "code",
   "execution_count": 1,
   "id": "32450c2e",
   "metadata": {},
   "outputs": [],
   "source": [
    "import pandas as pd\n",
    "import numpy as np\n",
    "from sklearn.model_selection import train_test_split\n",
    "import re\n",
    "from matplotlib import pyplot as plt\n",
    "import seaborn as sns\n",
    "from sklearn.ensemble import GradientBoostingClassifier\n",
    "from sklearn.ensemble import GradientBoostingRegressor\n",
    "from sklearn.metrics import r2_score, explained_variance_score, mean_absolute_error, mean_squared_error\n",
    "from math import sqrt\n",
    "from sklearn.model_selection import RandomizedSearchCV, StratifiedKFold, train_test_split\n",
    "from sklearn.linear_model import LogisticRegressionCV\n",
    "from sklearn.model_selection import KFold\n",
    "from sklearn.metrics import r2_score, explained_variance_score, confusion_matrix, accuracy_score, classification_report, log_loss"
   ]
  },
  {
   "cell_type": "code",
   "execution_count": 2,
   "id": "562a511d",
   "metadata": {},
   "outputs": [],
   "source": [
    "test_dataset = pd.read_csv(\"C:/Users/ASU/Desktop/IITD/DATAScience/PythonProjectDataset/test___dataset.csv\")\n",
    "traindataset=pd.read_csv(\"C:/Users/ASU/Desktop/IITD/DATAScience/PythonProjectDataset/train__dataset.csv\")\n"
   ]
  },
  {
   "cell_type": "code",
   "execution_count": 3,
   "id": "2719d8b3",
   "metadata": {},
   "outputs": [
    {
     "data": {
      "text/html": [
       "<div>\n",
       "<style scoped>\n",
       "    .dataframe tbody tr th:only-of-type {\n",
       "        vertical-align: middle;\n",
       "    }\n",
       "\n",
       "    .dataframe tbody tr th {\n",
       "        vertical-align: top;\n",
       "    }\n",
       "\n",
       "    .dataframe thead th {\n",
       "        text-align: right;\n",
       "    }\n",
       "</style>\n",
       "<table border=\"1\" class=\"dataframe\">\n",
       "  <thead>\n",
       "    <tr style=\"text-align: right;\">\n",
       "      <th></th>\n",
       "      <th>ID</th>\n",
       "      <th>no_of_adults</th>\n",
       "      <th>no_of_children</th>\n",
       "      <th>no_of_weekend_nights</th>\n",
       "      <th>no_of_week_nights</th>\n",
       "      <th>type_of_meal_plan</th>\n",
       "      <th>required_car_parking_space</th>\n",
       "      <th>room_type_reserved</th>\n",
       "      <th>lead_time</th>\n",
       "      <th>arrival_year</th>\n",
       "      <th>arrival_month</th>\n",
       "      <th>arrival_date</th>\n",
       "      <th>market_segment_type</th>\n",
       "      <th>repeated_guest</th>\n",
       "      <th>no_of_previous_cancellations</th>\n",
       "      <th>no_of_previous_bookings_not_canceled</th>\n",
       "      <th>avg_price_per_room</th>\n",
       "      <th>no_of_special_requests</th>\n",
       "      <th>booking_status</th>\n",
       "    </tr>\n",
       "  </thead>\n",
       "  <tbody>\n",
       "    <tr>\n",
       "      <th>0</th>\n",
       "      <td>12763</td>\n",
       "      <td>2</td>\n",
       "      <td>0</td>\n",
       "      <td>1</td>\n",
       "      <td>4</td>\n",
       "      <td>0</td>\n",
       "      <td>0</td>\n",
       "      <td>0</td>\n",
       "      <td>118</td>\n",
       "      <td>2017</td>\n",
       "      <td>12</td>\n",
       "      <td>28</td>\n",
       "      <td>1</td>\n",
       "      <td>0</td>\n",
       "      <td>0</td>\n",
       "      <td>0</td>\n",
       "      <td>110.80</td>\n",
       "      <td>2</td>\n",
       "      <td>0</td>\n",
       "    </tr>\n",
       "    <tr>\n",
       "      <th>1</th>\n",
       "      <td>16941</td>\n",
       "      <td>2</td>\n",
       "      <td>1</td>\n",
       "      <td>0</td>\n",
       "      <td>2</td>\n",
       "      <td>0</td>\n",
       "      <td>0</td>\n",
       "      <td>0</td>\n",
       "      <td>17</td>\n",
       "      <td>2018</td>\n",
       "      <td>4</td>\n",
       "      <td>14</td>\n",
       "      <td>1</td>\n",
       "      <td>0</td>\n",
       "      <td>0</td>\n",
       "      <td>0</td>\n",
       "      <td>145.00</td>\n",
       "      <td>0</td>\n",
       "      <td>1</td>\n",
       "    </tr>\n",
       "    <tr>\n",
       "      <th>2</th>\n",
       "      <td>7938</td>\n",
       "      <td>1</td>\n",
       "      <td>0</td>\n",
       "      <td>1</td>\n",
       "      <td>5</td>\n",
       "      <td>0</td>\n",
       "      <td>0</td>\n",
       "      <td>0</td>\n",
       "      <td>349</td>\n",
       "      <td>2018</td>\n",
       "      <td>10</td>\n",
       "      <td>4</td>\n",
       "      <td>0</td>\n",
       "      <td>0</td>\n",
       "      <td>0</td>\n",
       "      <td>0</td>\n",
       "      <td>96.67</td>\n",
       "      <td>0</td>\n",
       "      <td>1</td>\n",
       "    </tr>\n",
       "    <tr>\n",
       "      <th>3</th>\n",
       "      <td>7579</td>\n",
       "      <td>1</td>\n",
       "      <td>0</td>\n",
       "      <td>2</td>\n",
       "      <td>4</td>\n",
       "      <td>0</td>\n",
       "      <td>0</td>\n",
       "      <td>0</td>\n",
       "      <td>69</td>\n",
       "      <td>2018</td>\n",
       "      <td>6</td>\n",
       "      <td>12</td>\n",
       "      <td>0</td>\n",
       "      <td>0</td>\n",
       "      <td>0</td>\n",
       "      <td>0</td>\n",
       "      <td>120.00</td>\n",
       "      <td>0</td>\n",
       "      <td>1</td>\n",
       "    </tr>\n",
       "    <tr>\n",
       "      <th>4</th>\n",
       "      <td>12965</td>\n",
       "      <td>2</td>\n",
       "      <td>0</td>\n",
       "      <td>0</td>\n",
       "      <td>4</td>\n",
       "      <td>1</td>\n",
       "      <td>0</td>\n",
       "      <td>0</td>\n",
       "      <td>11</td>\n",
       "      <td>2018</td>\n",
       "      <td>1</td>\n",
       "      <td>20</td>\n",
       "      <td>1</td>\n",
       "      <td>0</td>\n",
       "      <td>0</td>\n",
       "      <td>0</td>\n",
       "      <td>69.50</td>\n",
       "      <td>1</td>\n",
       "      <td>0</td>\n",
       "    </tr>\n",
       "    <tr>\n",
       "      <th>5</th>\n",
       "      <td>16901</td>\n",
       "      <td>2</td>\n",
       "      <td>0</td>\n",
       "      <td>2</td>\n",
       "      <td>3</td>\n",
       "      <td>0</td>\n",
       "      <td>0</td>\n",
       "      <td>1</td>\n",
       "      <td>51</td>\n",
       "      <td>2018</td>\n",
       "      <td>9</td>\n",
       "      <td>18</td>\n",
       "      <td>1</td>\n",
       "      <td>0</td>\n",
       "      <td>0</td>\n",
       "      <td>0</td>\n",
       "      <td>149.40</td>\n",
       "      <td>1</td>\n",
       "      <td>0</td>\n",
       "    </tr>\n",
       "    <tr>\n",
       "      <th>6</th>\n",
       "      <td>13879</td>\n",
       "      <td>1</td>\n",
       "      <td>0</td>\n",
       "      <td>0</td>\n",
       "      <td>2</td>\n",
       "      <td>0</td>\n",
       "      <td>0</td>\n",
       "      <td>4</td>\n",
       "      <td>7</td>\n",
       "      <td>2018</td>\n",
       "      <td>2</td>\n",
       "      <td>5</td>\n",
       "      <td>2</td>\n",
       "      <td>0</td>\n",
       "      <td>0</td>\n",
       "      <td>0</td>\n",
       "      <td>86.00</td>\n",
       "      <td>0</td>\n",
       "      <td>0</td>\n",
       "    </tr>\n",
       "    <tr>\n",
       "      <th>7</th>\n",
       "      <td>18024</td>\n",
       "      <td>2</td>\n",
       "      <td>0</td>\n",
       "      <td>1</td>\n",
       "      <td>3</td>\n",
       "      <td>2</td>\n",
       "      <td>0</td>\n",
       "      <td>0</td>\n",
       "      <td>61</td>\n",
       "      <td>2018</td>\n",
       "      <td>11</td>\n",
       "      <td>21</td>\n",
       "      <td>1</td>\n",
       "      <td>0</td>\n",
       "      <td>0</td>\n",
       "      <td>0</td>\n",
       "      <td>120.70</td>\n",
       "      <td>1</td>\n",
       "      <td>0</td>\n",
       "    </tr>\n",
       "    <tr>\n",
       "      <th>8</th>\n",
       "      <td>9985</td>\n",
       "      <td>2</td>\n",
       "      <td>0</td>\n",
       "      <td>2</td>\n",
       "      <td>2</td>\n",
       "      <td>0</td>\n",
       "      <td>0</td>\n",
       "      <td>1</td>\n",
       "      <td>32</td>\n",
       "      <td>2018</td>\n",
       "      <td>9</td>\n",
       "      <td>25</td>\n",
       "      <td>1</td>\n",
       "      <td>0</td>\n",
       "      <td>0</td>\n",
       "      <td>0</td>\n",
       "      <td>134.78</td>\n",
       "      <td>1</td>\n",
       "      <td>0</td>\n",
       "    </tr>\n",
       "    <tr>\n",
       "      <th>9</th>\n",
       "      <td>9584</td>\n",
       "      <td>2</td>\n",
       "      <td>0</td>\n",
       "      <td>0</td>\n",
       "      <td>2</td>\n",
       "      <td>2</td>\n",
       "      <td>0</td>\n",
       "      <td>0</td>\n",
       "      <td>39</td>\n",
       "      <td>2017</td>\n",
       "      <td>8</td>\n",
       "      <td>14</td>\n",
       "      <td>0</td>\n",
       "      <td>0</td>\n",
       "      <td>0</td>\n",
       "      <td>0</td>\n",
       "      <td>109.00</td>\n",
       "      <td>0</td>\n",
       "      <td>0</td>\n",
       "    </tr>\n",
       "  </tbody>\n",
       "</table>\n",
       "</div>"
      ],
      "text/plain": [
       "      ID  no_of_adults  no_of_children  no_of_weekend_nights  \\\n",
       "0  12763             2               0                     1   \n",
       "1  16941             2               1                     0   \n",
       "2   7938             1               0                     1   \n",
       "3   7579             1               0                     2   \n",
       "4  12965             2               0                     0   \n",
       "5  16901             2               0                     2   \n",
       "6  13879             1               0                     0   \n",
       "7  18024             2               0                     1   \n",
       "8   9985             2               0                     2   \n",
       "9   9584             2               0                     0   \n",
       "\n",
       "   no_of_week_nights  type_of_meal_plan  required_car_parking_space  \\\n",
       "0                  4                  0                           0   \n",
       "1                  2                  0                           0   \n",
       "2                  5                  0                           0   \n",
       "3                  4                  0                           0   \n",
       "4                  4                  1                           0   \n",
       "5                  3                  0                           0   \n",
       "6                  2                  0                           0   \n",
       "7                  3                  2                           0   \n",
       "8                  2                  0                           0   \n",
       "9                  2                  2                           0   \n",
       "\n",
       "   room_type_reserved  lead_time  arrival_year  arrival_month  arrival_date  \\\n",
       "0                   0        118          2017             12            28   \n",
       "1                   0         17          2018              4            14   \n",
       "2                   0        349          2018             10             4   \n",
       "3                   0         69          2018              6            12   \n",
       "4                   0         11          2018              1            20   \n",
       "5                   1         51          2018              9            18   \n",
       "6                   4          7          2018              2             5   \n",
       "7                   0         61          2018             11            21   \n",
       "8                   1         32          2018              9            25   \n",
       "9                   0         39          2017              8            14   \n",
       "\n",
       "   market_segment_type  repeated_guest  no_of_previous_cancellations  \\\n",
       "0                    1               0                             0   \n",
       "1                    1               0                             0   \n",
       "2                    0               0                             0   \n",
       "3                    0               0                             0   \n",
       "4                    1               0                             0   \n",
       "5                    1               0                             0   \n",
       "6                    2               0                             0   \n",
       "7                    1               0                             0   \n",
       "8                    1               0                             0   \n",
       "9                    0               0                             0   \n",
       "\n",
       "   no_of_previous_bookings_not_canceled  avg_price_per_room  \\\n",
       "0                                     0              110.80   \n",
       "1                                     0              145.00   \n",
       "2                                     0               96.67   \n",
       "3                                     0              120.00   \n",
       "4                                     0               69.50   \n",
       "5                                     0              149.40   \n",
       "6                                     0               86.00   \n",
       "7                                     0              120.70   \n",
       "8                                     0              134.78   \n",
       "9                                     0              109.00   \n",
       "\n",
       "   no_of_special_requests  booking_status  \n",
       "0                       2               0  \n",
       "1                       0               1  \n",
       "2                       0               1  \n",
       "3                       0               1  \n",
       "4                       1               0  \n",
       "5                       1               0  \n",
       "6                       0               0  \n",
       "7                       1               0  \n",
       "8                       1               0  \n",
       "9                       0               0  "
      ]
     },
     "execution_count": 3,
     "metadata": {},
     "output_type": "execute_result"
    }
   ],
   "source": [
    "#here we will get 10 starting data set from taindataset \n",
    "traindataset.head(10)"
   ]
  },
  {
   "cell_type": "code",
   "execution_count": 4,
   "id": "94e3d159",
   "metadata": {},
   "outputs": [
    {
     "name": "stdout",
     "output_type": "stream",
     "text": [
      "<class 'pandas.core.frame.DataFrame'>\n",
      "RangeIndex: 18137 entries, 0 to 18136\n",
      "Data columns (total 19 columns):\n",
      " #   Column                                Non-Null Count  Dtype  \n",
      "---  ------                                --------------  -----  \n",
      " 0   ID                                    18137 non-null  int64  \n",
      " 1   no_of_adults                          18137 non-null  int64  \n",
      " 2   no_of_children                        18137 non-null  int64  \n",
      " 3   no_of_weekend_nights                  18137 non-null  int64  \n",
      " 4   no_of_week_nights                     18137 non-null  int64  \n",
      " 5   type_of_meal_plan                     18137 non-null  int64  \n",
      " 6   required_car_parking_space            18137 non-null  int64  \n",
      " 7   room_type_reserved                    18137 non-null  int64  \n",
      " 8   lead_time                             18137 non-null  int64  \n",
      " 9   arrival_year                          18137 non-null  int64  \n",
      " 10  arrival_month                         18137 non-null  int64  \n",
      " 11  arrival_date                          18137 non-null  int64  \n",
      " 12  market_segment_type                   18137 non-null  int64  \n",
      " 13  repeated_guest                        18137 non-null  int64  \n",
      " 14  no_of_previous_cancellations          18137 non-null  int64  \n",
      " 15  no_of_previous_bookings_not_canceled  18137 non-null  int64  \n",
      " 16  avg_price_per_room                    18137 non-null  float64\n",
      " 17  no_of_special_requests                18137 non-null  int64  \n",
      " 18  booking_status                        18137 non-null  int64  \n",
      "dtypes: float64(1), int64(18)\n",
      "memory usage: 2.6 MB\n"
     ]
    }
   ],
   "source": [
    "#we dont want null value in dataset \n",
    "traindataset.info()"
   ]
  },
  {
   "cell_type": "code",
   "execution_count": 5,
   "id": "2bbe4c33",
   "metadata": {},
   "outputs": [
    {
     "data": {
      "text/html": [
       "<div>\n",
       "<style scoped>\n",
       "    .dataframe tbody tr th:only-of-type {\n",
       "        vertical-align: middle;\n",
       "    }\n",
       "\n",
       "    .dataframe tbody tr th {\n",
       "        vertical-align: top;\n",
       "    }\n",
       "\n",
       "    .dataframe thead th {\n",
       "        text-align: right;\n",
       "    }\n",
       "</style>\n",
       "<table border=\"1\" class=\"dataframe\">\n",
       "  <thead>\n",
       "    <tr style=\"text-align: right;\">\n",
       "      <th></th>\n",
       "      <th>ID</th>\n",
       "      <th>no_of_adults</th>\n",
       "      <th>no_of_children</th>\n",
       "      <th>no_of_weekend_nights</th>\n",
       "      <th>no_of_week_nights</th>\n",
       "      <th>type_of_meal_plan</th>\n",
       "      <th>required_car_parking_space</th>\n",
       "      <th>room_type_reserved</th>\n",
       "      <th>lead_time</th>\n",
       "      <th>arrival_year</th>\n",
       "      <th>arrival_month</th>\n",
       "      <th>arrival_date</th>\n",
       "      <th>market_segment_type</th>\n",
       "      <th>repeated_guest</th>\n",
       "      <th>no_of_previous_cancellations</th>\n",
       "      <th>no_of_previous_bookings_not_canceled</th>\n",
       "      <th>avg_price_per_room</th>\n",
       "      <th>no_of_special_requests</th>\n",
       "    </tr>\n",
       "  </thead>\n",
       "  <tbody>\n",
       "    <tr>\n",
       "      <th>0</th>\n",
       "      <td>9740.0</td>\n",
       "      <td>2</td>\n",
       "      <td>0</td>\n",
       "      <td>1</td>\n",
       "      <td>2</td>\n",
       "      <td>0</td>\n",
       "      <td>1</td>\n",
       "      <td>0</td>\n",
       "      <td>65</td>\n",
       "      <td>2018</td>\n",
       "      <td>3</td>\n",
       "      <td>28</td>\n",
       "      <td>1</td>\n",
       "      <td>0</td>\n",
       "      <td>0</td>\n",
       "      <td>0</td>\n",
       "      <td>96.3</td>\n",
       "      <td>0</td>\n",
       "    </tr>\n",
       "    <tr>\n",
       "      <th>1</th>\n",
       "      <td>7913.0</td>\n",
       "      <td>2</td>\n",
       "      <td>0</td>\n",
       "      <td>0</td>\n",
       "      <td>2</td>\n",
       "      <td>0</td>\n",
       "      <td>0</td>\n",
       "      <td>0</td>\n",
       "      <td>322</td>\n",
       "      <td>2018</td>\n",
       "      <td>12</td>\n",
       "      <td>9</td>\n",
       "      <td>0</td>\n",
       "      <td>0</td>\n",
       "      <td>0</td>\n",
       "      <td>0</td>\n",
       "      <td>52.0</td>\n",
       "      <td>0</td>\n",
       "    </tr>\n",
       "    <tr>\n",
       "      <th>2</th>\n",
       "      <td>9379.0</td>\n",
       "      <td>1</td>\n",
       "      <td>0</td>\n",
       "      <td>2</td>\n",
       "      <td>3</td>\n",
       "      <td>0</td>\n",
       "      <td>0</td>\n",
       "      <td>0</td>\n",
       "      <td>115</td>\n",
       "      <td>2018</td>\n",
       "      <td>2</td>\n",
       "      <td>27</td>\n",
       "      <td>0</td>\n",
       "      <td>0</td>\n",
       "      <td>0</td>\n",
       "      <td>0</td>\n",
       "      <td>75.0</td>\n",
       "      <td>0</td>\n",
       "    </tr>\n",
       "    <tr>\n",
       "      <th>3</th>\n",
       "      <td>3238.0</td>\n",
       "      <td>2</td>\n",
       "      <td>0</td>\n",
       "      <td>2</td>\n",
       "      <td>0</td>\n",
       "      <td>2</td>\n",
       "      <td>0</td>\n",
       "      <td>0</td>\n",
       "      <td>386</td>\n",
       "      <td>2018</td>\n",
       "      <td>10</td>\n",
       "      <td>23</td>\n",
       "      <td>1</td>\n",
       "      <td>0</td>\n",
       "      <td>0</td>\n",
       "      <td>0</td>\n",
       "      <td>115.0</td>\n",
       "      <td>1</td>\n",
       "    </tr>\n",
       "    <tr>\n",
       "      <th>4</th>\n",
       "      <td>15675.0</td>\n",
       "      <td>2</td>\n",
       "      <td>0</td>\n",
       "      <td>1</td>\n",
       "      <td>4</td>\n",
       "      <td>0</td>\n",
       "      <td>0</td>\n",
       "      <td>1</td>\n",
       "      <td>51</td>\n",
       "      <td>2018</td>\n",
       "      <td>8</td>\n",
       "      <td>31</td>\n",
       "      <td>1</td>\n",
       "      <td>0</td>\n",
       "      <td>0</td>\n",
       "      <td>0</td>\n",
       "      <td>123.3</td>\n",
       "      <td>0</td>\n",
       "    </tr>\n",
       "    <tr>\n",
       "      <th>...</th>\n",
       "      <td>...</td>\n",
       "      <td>...</td>\n",
       "      <td>...</td>\n",
       "      <td>...</td>\n",
       "      <td>...</td>\n",
       "      <td>...</td>\n",
       "      <td>...</td>\n",
       "      <td>...</td>\n",
       "      <td>...</td>\n",
       "      <td>...</td>\n",
       "      <td>...</td>\n",
       "      <td>...</td>\n",
       "      <td>...</td>\n",
       "      <td>...</td>\n",
       "      <td>...</td>\n",
       "      <td>...</td>\n",
       "      <td>...</td>\n",
       "      <td>...</td>\n",
       "    </tr>\n",
       "    <tr>\n",
       "      <th>18133</th>\n",
       "      <td>6889.0</td>\n",
       "      <td>2</td>\n",
       "      <td>0</td>\n",
       "      <td>1</td>\n",
       "      <td>3</td>\n",
       "      <td>0</td>\n",
       "      <td>0</td>\n",
       "      <td>1</td>\n",
       "      <td>37</td>\n",
       "      <td>2018</td>\n",
       "      <td>3</td>\n",
       "      <td>14</td>\n",
       "      <td>1</td>\n",
       "      <td>0</td>\n",
       "      <td>0</td>\n",
       "      <td>0</td>\n",
       "      <td>95.4</td>\n",
       "      <td>1</td>\n",
       "    </tr>\n",
       "    <tr>\n",
       "      <th>18134</th>\n",
       "      <td>15052.0</td>\n",
       "      <td>1</td>\n",
       "      <td>0</td>\n",
       "      <td>1</td>\n",
       "      <td>2</td>\n",
       "      <td>0</td>\n",
       "      <td>0</td>\n",
       "      <td>0</td>\n",
       "      <td>40</td>\n",
       "      <td>2018</td>\n",
       "      <td>11</td>\n",
       "      <td>7</td>\n",
       "      <td>1</td>\n",
       "      <td>0</td>\n",
       "      <td>0</td>\n",
       "      <td>0</td>\n",
       "      <td>169.2</td>\n",
       "      <td>0</td>\n",
       "    </tr>\n",
       "    <tr>\n",
       "      <th>18135</th>\n",
       "      <td>14441.0</td>\n",
       "      <td>2</td>\n",
       "      <td>0</td>\n",
       "      <td>2</td>\n",
       "      <td>2</td>\n",
       "      <td>0</td>\n",
       "      <td>0</td>\n",
       "      <td>0</td>\n",
       "      <td>144</td>\n",
       "      <td>2018</td>\n",
       "      <td>7</td>\n",
       "      <td>3</td>\n",
       "      <td>0</td>\n",
       "      <td>0</td>\n",
       "      <td>0</td>\n",
       "      <td>0</td>\n",
       "      <td>112.0</td>\n",
       "      <td>0</td>\n",
       "    </tr>\n",
       "    <tr>\n",
       "      <th>18136</th>\n",
       "      <td>13866.0</td>\n",
       "      <td>2</td>\n",
       "      <td>0</td>\n",
       "      <td>0</td>\n",
       "      <td>2</td>\n",
       "      <td>0</td>\n",
       "      <td>0</td>\n",
       "      <td>1</td>\n",
       "      <td>30</td>\n",
       "      <td>2018</td>\n",
       "      <td>3</td>\n",
       "      <td>4</td>\n",
       "      <td>1</td>\n",
       "      <td>0</td>\n",
       "      <td>0</td>\n",
       "      <td>0</td>\n",
       "      <td>116.3</td>\n",
       "      <td>1</td>\n",
       "    </tr>\n",
       "    <tr>\n",
       "      <th>18137</th>\n",
       "      <td>NaN</td>\n",
       "      <td>2</td>\n",
       "      <td>0</td>\n",
       "      <td>0</td>\n",
       "      <td>2</td>\n",
       "      <td>0</td>\n",
       "      <td>0</td>\n",
       "      <td>0</td>\n",
       "      <td>211</td>\n",
       "      <td>2018</td>\n",
       "      <td>5</td>\n",
       "      <td>20</td>\n",
       "      <td>0</td>\n",
       "      <td>0</td>\n",
       "      <td>0</td>\n",
       "      <td>0</td>\n",
       "      <td>100.0</td>\n",
       "      <td>0</td>\n",
       "    </tr>\n",
       "  </tbody>\n",
       "</table>\n",
       "<p>18138 rows × 18 columns</p>\n",
       "</div>"
      ],
      "text/plain": [
       "            ID  no_of_adults  no_of_children  no_of_weekend_nights  \\\n",
       "0       9740.0             2               0                     1   \n",
       "1       7913.0             2               0                     0   \n",
       "2       9379.0             1               0                     2   \n",
       "3       3238.0             2               0                     2   \n",
       "4      15675.0             2               0                     1   \n",
       "...        ...           ...             ...                   ...   \n",
       "18133   6889.0             2               0                     1   \n",
       "18134  15052.0             1               0                     1   \n",
       "18135  14441.0             2               0                     2   \n",
       "18136  13866.0             2               0                     0   \n",
       "18137      NaN             2               0                     0   \n",
       "\n",
       "       no_of_week_nights  type_of_meal_plan  required_car_parking_space  \\\n",
       "0                      2                  0                           1   \n",
       "1                      2                  0                           0   \n",
       "2                      3                  0                           0   \n",
       "3                      0                  2                           0   \n",
       "4                      4                  0                           0   \n",
       "...                  ...                ...                         ...   \n",
       "18133                  3                  0                           0   \n",
       "18134                  2                  0                           0   \n",
       "18135                  2                  0                           0   \n",
       "18136                  2                  0                           0   \n",
       "18137                  2                  0                           0   \n",
       "\n",
       "       room_type_reserved  lead_time  arrival_year  arrival_month  \\\n",
       "0                       0         65          2018              3   \n",
       "1                       0        322          2018             12   \n",
       "2                       0        115          2018              2   \n",
       "3                       0        386          2018             10   \n",
       "4                       1         51          2018              8   \n",
       "...                   ...        ...           ...            ...   \n",
       "18133                   1         37          2018              3   \n",
       "18134                   0         40          2018             11   \n",
       "18135                   0        144          2018              7   \n",
       "18136                   1         30          2018              3   \n",
       "18137                   0        211          2018              5   \n",
       "\n",
       "       arrival_date  market_segment_type  repeated_guest  \\\n",
       "0                28                    1               0   \n",
       "1                 9                    0               0   \n",
       "2                27                    0               0   \n",
       "3                23                    1               0   \n",
       "4                31                    1               0   \n",
       "...             ...                  ...             ...   \n",
       "18133            14                    1               0   \n",
       "18134             7                    1               0   \n",
       "18135             3                    0               0   \n",
       "18136             4                    1               0   \n",
       "18137            20                    0               0   \n",
       "\n",
       "       no_of_previous_cancellations  no_of_previous_bookings_not_canceled  \\\n",
       "0                                 0                                     0   \n",
       "1                                 0                                     0   \n",
       "2                                 0                                     0   \n",
       "3                                 0                                     0   \n",
       "4                                 0                                     0   \n",
       "...                             ...                                   ...   \n",
       "18133                             0                                     0   \n",
       "18134                             0                                     0   \n",
       "18135                             0                                     0   \n",
       "18136                             0                                     0   \n",
       "18137                             0                                     0   \n",
       "\n",
       "       avg_price_per_room  no_of_special_requests  \n",
       "0                    96.3                       0  \n",
       "1                    52.0                       0  \n",
       "2                    75.0                       0  \n",
       "3                   115.0                       1  \n",
       "4                   123.3                       0  \n",
       "...                   ...                     ...  \n",
       "18133                95.4                       1  \n",
       "18134               169.2                       0  \n",
       "18135               112.0                       0  \n",
       "18136               116.3                       1  \n",
       "18137               100.0                       0  \n",
       "\n",
       "[18138 rows x 18 columns]"
      ]
     },
     "execution_count": 5,
     "metadata": {},
     "output_type": "execute_result"
    }
   ],
   "source": [
    "test_dataset"
   ]
  },
  {
   "cell_type": "code",
   "execution_count": 6,
   "id": "1fee0676",
   "metadata": {},
   "outputs": [
    {
     "data": {
      "text/plain": [
       "19"
      ]
     },
     "execution_count": 6,
     "metadata": {},
     "output_type": "execute_result"
    }
   ],
   "source": [
    "#So very thing is not null\n",
    "traindataset.nunique().count()"
   ]
  },
  {
   "cell_type": "code",
   "execution_count": 7,
   "id": "cecbac73",
   "metadata": {},
   "outputs": [
    {
     "name": "stdout",
     "output_type": "stream",
     "text": [
      "Test DATA (18138, 18)\n",
      "TAIN DATA (18137, 19)\n"
     ]
    }
   ],
   "source": [
    "print(\"Test DATA\",test_dataset.shape)\n",
    "print(\"TAIN DATA\",traindataset.shape)"
   ]
  },
  {
   "cell_type": "code",
   "execution_count": 8,
   "id": "b85cce41",
   "metadata": {},
   "outputs": [
    {
     "name": "stdout",
     "output_type": "stream",
     "text": [
      "booking_status\n"
     ]
    }
   ],
   "source": [
    "#hat we have to predict\n",
    "l=traindataset.columns.values\n",
    "k=test_dataset.columns.values\n",
    "for i in l:\n",
    "    if i not in k:\n",
    "        print(i)"
   ]
  },
  {
   "cell_type": "code",
   "execution_count": 9,
   "id": "cdc9dc56",
   "metadata": {},
   "outputs": [
    {
     "name": "stdout",
     "output_type": "stream",
     "text": [
      "<class 'pandas.core.frame.DataFrame'>\n",
      "RangeIndex: 18137 entries, 0 to 18136\n",
      "Data columns (total 19 columns):\n",
      " #   Column                                Non-Null Count  Dtype  \n",
      "---  ------                                --------------  -----  \n",
      " 0   ID                                    18137 non-null  int64  \n",
      " 1   no_of_adults                          18137 non-null  int64  \n",
      " 2   no_of_children                        18137 non-null  int64  \n",
      " 3   no_of_weekend_nights                  18137 non-null  int64  \n",
      " 4   no_of_week_nights                     18137 non-null  int64  \n",
      " 5   type_of_meal_plan                     18137 non-null  int64  \n",
      " 6   required_car_parking_space            18137 non-null  int64  \n",
      " 7   room_type_reserved                    18137 non-null  int64  \n",
      " 8   lead_time                             18137 non-null  int64  \n",
      " 9   arrival_year                          18137 non-null  int64  \n",
      " 10  arrival_month                         18137 non-null  int64  \n",
      " 11  arrival_date                          18137 non-null  int64  \n",
      " 12  market_segment_type                   18137 non-null  int64  \n",
      " 13  repeated_guest                        18137 non-null  int64  \n",
      " 14  no_of_previous_cancellations          18137 non-null  int64  \n",
      " 15  no_of_previous_bookings_not_canceled  18137 non-null  int64  \n",
      " 16  avg_price_per_room                    18137 non-null  float64\n",
      " 17  no_of_special_requests                18137 non-null  int64  \n",
      " 18  booking_status                        18137 non-null  int64  \n",
      "dtypes: float64(1), int64(18)\n",
      "memory usage: 2.6 MB\n"
     ]
    }
   ],
   "source": [
    "#What we have to predict from test is booking_status\n",
    "traindataset.info()"
   ]
  },
  {
   "cell_type": "code",
   "execution_count": 10,
   "id": "f9dea16b",
   "metadata": {},
   "outputs": [
    {
     "data": {
      "text/plain": [
       "ID                                      18137\n",
       "no_of_adults                            18137\n",
       "no_of_children                          18137\n",
       "no_of_weekend_nights                    18137\n",
       "no_of_week_nights                       18137\n",
       "type_of_meal_plan                       18137\n",
       "required_car_parking_space              18137\n",
       "room_type_reserved                      18137\n",
       "lead_time                               18137\n",
       "arrival_year                            18137\n",
       "arrival_month                           18137\n",
       "arrival_date                            18137\n",
       "market_segment_type                     18137\n",
       "repeated_guest                          18137\n",
       "no_of_previous_cancellations            18137\n",
       "no_of_previous_bookings_not_canceled    18137\n",
       "avg_price_per_room                      18137\n",
       "no_of_special_requests                  18137\n",
       "booking_status                          18137\n",
       "dtype: int64"
      ]
     },
     "execution_count": 10,
     "metadata": {},
     "output_type": "execute_result"
    }
   ],
   "source": [
    "#Data Types\n",
    "traindataset.dtypes\n",
    "traindataset.count()"
   ]
  },
  {
   "cell_type": "code",
   "execution_count": 11,
   "id": "8206adcc",
   "metadata": {},
   "outputs": [
    {
     "name": "stdout",
     "output_type": "stream",
     "text": [
      "The number of values for features ID  : 11382 \n",
      "The number of values for features  NO_OF_ADULTS  : 5 ----  [0 1 2 3 4]\n",
      "The number of values for features  NO_OF_CHILDREN  : 5 ----  [0 1 2 3 9]\n",
      "The number of values for features  NO_OF_WEEKEND_NIGHTS  : 8 ----  [0 1 2 3 4 5 6 7]\n",
      "The number of values for features NO_OF_WEEK_NIGHTS  : 18 \n",
      "The number of values for features  TYPE_OF_MEAL_PLAN  : 4 ----  [0 1 2 3]\n",
      "The number of values for features  REQUIRED_CAR_PARKING_SPACE  : 2 ----  [0 1]\n",
      "The number of values for features  ROOM_TYPE_RESERVED  : 7 ----  [0 1 2 3 4 5 6]\n",
      "The number of values for features LEAD_TIME  : 341 \n",
      "The number of values for features  ARRIVAL_YEAR  : 2 ----  [2017 2018]\n",
      "The number of values for features ARRIVAL_MONTH  : 12 \n",
      "The number of values for features ARRIVAL_DATE  : 31 \n",
      "The number of values for features  MARKET_SEGMENT_TYPE  : 5 ----  [0 1 2 3 4]\n",
      "The number of values for features  REPEATED_GUEST  : 2 ----  [0 1]\n",
      "The number of values for features  NO_OF_PREVIOUS_CANCELLATIONS  : 9 ----  [ 0  1  2  3  4  5  6 11 13]\n",
      "The number of values for features NO_OF_PREVIOUS_BOOKINGS_NOT_CANCELED  : 47 \n",
      "The number of values for features AVG_PRICE_PER_ROOM  : 2722 \n",
      "The number of values for features  NO_OF_SPECIAL_REQUESTS  : 6 ----  [0 1 2 3 4 5]\n",
      "The number of values for features  BOOKING_STATUS  : 2 ----  [0 1]\n"
     ]
    }
   ],
   "source": [
    "#Investigate all the elements with each data feature\n",
    "#unique vqlues can be string numeric or so on\n",
    "\n",
    "for coloums in traindataset:\n",
    "    try:\n",
    "        unique_values=np.unique(traindataset[coloums])\n",
    "    except:\n",
    "        unique_values=traindataset[coloums].unique()\n",
    "    nr_values=len(unique_values)\n",
    "    if nr_values<10:\n",
    "        print('The number of values for features  {}  : {} ----  {}'.format(coloums.upper(),nr_values,unique_values))\n",
    "    else:\n",
    "        print('The number of values for features {}  : {} '.format(coloums.upper(),nr_values))"
   ]
  },
  {
   "cell_type": "markdown",
   "id": "9936b5d8",
   "metadata": {},
   "source": [
    "'''Missing Data\n",
    "As models cannot take in null values, it is important to check for and handle missing data before modeling.\n",
    "'''"
   ]
  },
  {
   "cell_type": "code",
   "execution_count": 12,
   "id": "39e5ca21",
   "metadata": {},
   "outputs": [
    {
     "data": {
      "text/plain": [
       "ID                                      0\n",
       "no_of_adults                            0\n",
       "no_of_children                          0\n",
       "no_of_weekend_nights                    0\n",
       "no_of_week_nights                       0\n",
       "type_of_meal_plan                       0\n",
       "required_car_parking_space              0\n",
       "room_type_reserved                      0\n",
       "lead_time                               0\n",
       "arrival_year                            0\n",
       "arrival_month                           0\n",
       "arrival_date                            0\n",
       "market_segment_type                     0\n",
       "repeated_guest                          0\n",
       "no_of_previous_cancellations            0\n",
       "no_of_previous_bookings_not_canceled    0\n",
       "avg_price_per_room                      0\n",
       "no_of_special_requests                  0\n",
       "booking_status                          0\n",
       "dtype: int64"
      ]
     },
     "execution_count": 12,
     "metadata": {},
     "output_type": "execute_result"
    }
   ],
   "source": [
    "\n",
    "# Checking for missing data\n",
    "traindataset.isnull().sum()"
   ]
  },
  {
   "cell_type": "markdown",
   "id": "394e4a1a",
   "metadata": {},
   "source": [
    "#Market segment designation. In categories, the term 0 means “Travel Agents” and 2  means “Tour Operators” and so on .\n",
    "#Cleaning DATA\n",
    "\"\"\" WE have already clean data \n",
    " so we will visualised the data \n",
    " \n",
    "\"\" we do not expect any duplicates. However, it is good practice to ensure our dataset does not contain duplicates.\"\"\""
   ]
  },
  {
   "cell_type": "code",
   "execution_count": 13,
   "id": "2dd0ef0e",
   "metadata": {},
   "outputs": [
    {
     "data": {
      "text/html": [
       "<div>\n",
       "<style scoped>\n",
       "    .dataframe tbody tr th:only-of-type {\n",
       "        vertical-align: middle;\n",
       "    }\n",
       "\n",
       "    .dataframe tbody tr th {\n",
       "        vertical-align: top;\n",
       "    }\n",
       "\n",
       "    .dataframe thead th {\n",
       "        text-align: right;\n",
       "    }\n",
       "</style>\n",
       "<table border=\"1\" class=\"dataframe\">\n",
       "  <thead>\n",
       "    <tr style=\"text-align: right;\">\n",
       "      <th></th>\n",
       "      <th>ID</th>\n",
       "      <th>no_of_adults</th>\n",
       "      <th>no_of_children</th>\n",
       "      <th>no_of_weekend_nights</th>\n",
       "      <th>no_of_week_nights</th>\n",
       "      <th>type_of_meal_plan</th>\n",
       "      <th>required_car_parking_space</th>\n",
       "      <th>room_type_reserved</th>\n",
       "      <th>lead_time</th>\n",
       "      <th>arrival_year</th>\n",
       "      <th>arrival_month</th>\n",
       "      <th>arrival_date</th>\n",
       "      <th>market_segment_type</th>\n",
       "      <th>repeated_guest</th>\n",
       "      <th>no_of_previous_cancellations</th>\n",
       "      <th>no_of_previous_bookings_not_canceled</th>\n",
       "      <th>avg_price_per_room</th>\n",
       "      <th>no_of_special_requests</th>\n",
       "      <th>booking_status</th>\n",
       "    </tr>\n",
       "  </thead>\n",
       "  <tbody>\n",
       "    <tr>\n",
       "      <th>3991</th>\n",
       "      <td>1169</td>\n",
       "      <td>1</td>\n",
       "      <td>0</td>\n",
       "      <td>0</td>\n",
       "      <td>3</td>\n",
       "      <td>0</td>\n",
       "      <td>0</td>\n",
       "      <td>0</td>\n",
       "      <td>71</td>\n",
       "      <td>2018</td>\n",
       "      <td>6</td>\n",
       "      <td>14</td>\n",
       "      <td>0</td>\n",
       "      <td>0</td>\n",
       "      <td>0</td>\n",
       "      <td>0</td>\n",
       "      <td>120.0</td>\n",
       "      <td>0</td>\n",
       "      <td>0</td>\n",
       "    </tr>\n",
       "    <tr>\n",
       "      <th>13018</th>\n",
       "      <td>10507</td>\n",
       "      <td>1</td>\n",
       "      <td>0</td>\n",
       "      <td>0</td>\n",
       "      <td>2</td>\n",
       "      <td>0</td>\n",
       "      <td>0</td>\n",
       "      <td>0</td>\n",
       "      <td>32</td>\n",
       "      <td>2017</td>\n",
       "      <td>11</td>\n",
       "      <td>20</td>\n",
       "      <td>0</td>\n",
       "      <td>0</td>\n",
       "      <td>0</td>\n",
       "      <td>0</td>\n",
       "      <td>73.0</td>\n",
       "      <td>0</td>\n",
       "      <td>0</td>\n",
       "    </tr>\n",
       "  </tbody>\n",
       "</table>\n",
       "</div>"
      ],
      "text/plain": [
       "          ID  no_of_adults  no_of_children  no_of_weekend_nights  \\\n",
       "3991    1169             1               0                     0   \n",
       "13018  10507             1               0                     0   \n",
       "\n",
       "       no_of_week_nights  type_of_meal_plan  required_car_parking_space  \\\n",
       "3991                   3                  0                           0   \n",
       "13018                  2                  0                           0   \n",
       "\n",
       "       room_type_reserved  lead_time  arrival_year  arrival_month  \\\n",
       "3991                    0         71          2018              6   \n",
       "13018                   0         32          2017             11   \n",
       "\n",
       "       arrival_date  market_segment_type  repeated_guest  \\\n",
       "3991             14                    0               0   \n",
       "13018            20                    0               0   \n",
       "\n",
       "       no_of_previous_cancellations  no_of_previous_bookings_not_canceled  \\\n",
       "3991                              0                                     0   \n",
       "13018                             0                                     0   \n",
       "\n",
       "       avg_price_per_room  no_of_special_requests  booking_status  \n",
       "3991                120.0                       0               0  \n",
       "13018                73.0                       0               0  "
      ]
     },
     "execution_count": 13,
     "metadata": {},
     "output_type": "execute_result"
    }
   ],
   "source": [
    "\n",
    "# Checking for duplicates: \n",
    "traindataset[traindataset.duplicated(keep='first')]"
   ]
  },
  {
   "cell_type": "markdown",
   "id": "50bae759",
   "metadata": {},
   "source": [
    "Our dataset contains duplicates. However, it is possible that multiple bookings with the same features were made on the same \n",
    "    say. Since we do not have a feature such as booking ID, we cannot say for sure that those are true duplicates which makes \n",
    "    deleting those duplicates questionable.\n",
    "    "
   ]
  },
  {
   "cell_type": "code",
   "execution_count": 14,
   "id": "32332d92",
   "metadata": {},
   "outputs": [
    {
     "name": "stdout",
     "output_type": "stream",
     "text": [
      "18137\n"
     ]
    }
   ],
   "source": [
    "#getting the categorical variables\n",
    "categoricalV = traindataset.columns.drop(['booking_status','avg_price_per_room','no_of_previous_bookings_not_canceled',\n",
    "                                            'no_of_previous_cancellations',\n",
    "                                            'lead_time',\n",
    "                                            'arrival_date'])\n",
    "print(len(traindataset))"
   ]
  },
  {
   "cell_type": "code",
   "execution_count": 15,
   "id": "223ebe3a",
   "metadata": {},
   "outputs": [],
   "source": [
    "#g = sns.pairplot(traindataset[[ 'no_of_adults' , 'no_of_children' , 'no_of_weekend_nights' ,'no_of_week_nights' , 'type_of_meal_plan' ,'required_car_parking_space' ,'room_type_reserved']],hue='booking_status')#, height = 5, kin\n",
    "#Data Visualization\n"
   ]
  },
  {
   "cell_type": "markdown",
   "id": "e2bedd34",
   "metadata": {},
   "source": [
    "# correlation using pearson method'\n",
    "\n",
    "The Pearson correlation coefficient is a measure of the linear relationship between two variables. \n",
    "It ranges from -1 to 1, where -1 indicates a perfectly negative linear relationship, 0 indicates no linear relationship,\n",
    "and 1 indicates a perfectly positive linear relationship\n"
   ]
  },
  {
   "cell_type": "code",
   "execution_count": 16,
   "id": "b98f1cce",
   "metadata": {},
   "outputs": [
    {
     "data": {
      "text/plain": [
       "booking_status                          1.000000\n",
       "lead_time                               0.434314\n",
       "arrival_year                            0.183256\n",
       "avg_price_per_room                      0.145245\n",
       "no_of_week_nights                       0.096472\n",
       "no_of_adults                            0.094354\n",
       "type_of_meal_plan                       0.076685\n",
       "no_of_weekend_nights                    0.061117\n",
       "no_of_children                          0.035093\n",
       "room_type_reserved                      0.021723\n",
       "arrival_date                            0.011389\n",
       "ID                                     -0.004156\n",
       "arrival_month                          -0.011472\n",
       "no_of_previous_cancellations           -0.031852\n",
       "market_segment_type                    -0.045906\n",
       "no_of_previous_bookings_not_canceled   -0.060697\n",
       "required_car_parking_space             -0.092640\n",
       "repeated_guest                         -0.106715\n",
       "no_of_special_requests                 -0.248289\n",
       "Name: booking_status, dtype: float64"
      ]
     },
     "execution_count": 16,
     "metadata": {},
     "output_type": "execute_result"
    }
   ],
   "source": [
    "# correlation using pearson method\n",
    "traindataset.corr(method='pearson')['booking_status'].sort_values(ascending=False)"
   ]
  },
  {
   "cell_type": "code",
   "execution_count": 17,
   "id": "c0d145c7",
   "metadata": {},
   "outputs": [
    {
     "name": "stdout",
     "output_type": "stream",
     "text": [
      "18137\n"
     ]
    }
   ],
   "source": [
    "#getting the categorical variables\n",
    "\n",
    "categoricalV = traindataset.columns.drop(['booking_status','avg_price_per_room','no_of_previous_bookings_not_canceled',\n",
    "                                            'no_of_previous_cancellations',\n",
    "                                            'lead_time',\n",
    "                                            'arrival_date'])\n",
    "print(len(traindataset))"
   ]
  },
  {
   "cell_type": "code",
   "execution_count": null,
   "id": "c9b47172",
   "metadata": {},
   "outputs": [],
   "source": [
    "\n",
    "#plotting count plot for the categorical variables to show thier variation\n",
    "for i in categoricalV:\n",
    "    \n",
    "    plt.figure(figsize=(20,10))\n",
    "    sns.set_style(\"dark\")\n",
    "    plot = sns.countplot(data =traindataset, x=i,palette='bright')\n",
    "    \n",
    "    #adding the percentage of each bar above it 18137\n",
    "    for bar in plot.patches:\n",
    "      \n",
    "        percentage = '{:.3f}%'.format(100 * bar.get_height()/len(traindataset))\n",
    "        x = bar.get_x() + bar.get_width()/2\n",
    "        y = bar.get_height()+100\n",
    "        plot.annotate(percentage, (x, y),ha='center',size=16)\n",
    "    \n",
    "    plt.xticks(size=20)\n",
    "    plt.xlabel(i,size=20)\n",
    "    plt.yticks(size=20)\n",
    "    plt.ylabel('Count',size=20)\n",
    "    plt.title('Count plot of ' + i,size=20)\n",
    "    plt.show()"
   ]
  },
  {
   "cell_type": "code",
   "execution_count": null,
   "id": "cf468b94",
   "metadata": {},
   "outputs": [],
   "source": [
    "\n",
    "for i in categoricalV:\n",
    "    plt.figure(figsize=(20,10))\n",
    "    sns.set_style(\"dark\")\n",
    "    plot=sns.countplot(x=i,data =traindataset,palette='Set3',hue='booking_status')\n",
    "    for bar in plot.patches:\n",
    "      \n",
    "        percentage = '{:.3f}%'.format(100 * bar.get_height()/len(traindataset))\n",
    "        x = bar.get_x() + bar.get_width()/2\n",
    "        y = bar.get_height()+100\n",
    "        plot.annotate(percentage, (x, y),ha='center',size=16)\n",
    "    plt.xticks(size=20)\n",
    "    plt.xlabel(i,size=20)\n",
    "    plt.yticks(size=20)\n",
    "    plt.ylabel('Count',size=20)\n",
    "    plt.title('Count plot of ' + i,size=20)\n",
    "    plt.show()\n",
    "    "
   ]
  },
  {
   "cell_type": "code",
   "execution_count": null,
   "id": "687c51a0",
   "metadata": {},
   "outputs": [],
   "source": [
    "\n",
    "#Total no of peoples along with children\n",
    "k=traindataset['no_of_children']+traindataset['no_of_adults']"
   ]
  },
  {
   "cell_type": "code",
   "execution_count": null,
   "id": "57791c54",
   "metadata": {},
   "outputs": [],
   "source": [
    "plot=sns.countplot(x=k,data =traindataset,palette='Set3',hue='booking_status')"
   ]
  },
  {
   "cell_type": "code",
   "execution_count": null,
   "id": "4d3ab376",
   "metadata": {},
   "outputs": [],
   "source": [
    "#showing the stripplot of avg_price_per_room and some categorical variables according to the target column\n",
    "for i in categoricalV:\n",
    "    \n",
    "    plt.figure(figsize=(20,10))\n",
    "    sns.set_style(\"dark\")\n",
    "    plot= sns.stripplot(data=traindataset, x=i ,y='avg_price_per_room',hue='booking_status',jitter=0.4,palette='bright')\n",
    "    plt.xticks(size=20)\n",
    "    plt.xlabel(i,size=20)\n",
    "    plt.yticks(size=20)\n",
    "    plt.ylabel('Count',size=20)\n",
    "    plt.title('Strip plot of ' + i,size=20)\n",
    "    plt.setp(plot.get_legend().get_texts(), size=22) # for legend text\n",
    "    plt.setp(plot.get_legend().get_title(), size=32) # for legend title\n",
    "    plt.show()"
   ]
  },
  {
   "cell_type": "code",
   "execution_count": null,
   "id": "ff493da6",
   "metadata": {},
   "outputs": [],
   "source": [
    "#Corelation of variables\n",
    "plt.figure(figsize=(16,12))\n",
    "sns.heatmap(traindataset.corr(method='pearson'), annot=True, cmap='viridis')\n",
    "plt.show()"
   ]
  },
  {
   "cell_type": "code",
   "execution_count": null,
   "id": "cd5a01da",
   "metadata": {},
   "outputs": [],
   "source": [
    "\n",
    "\n",
    "#traindataset['datetimeyear'] =traindataset['arrival_month'].astype(str)+ '/'+traindataset['arrival_date'].astype(str)+'/'+traindataset['arrival_year'].astype(str)\n",
    "#traindataset['datetimeyear']"
   ]
  },
  {
   "cell_type": "code",
   "execution_count": null,
   "id": "dae1fe99",
   "metadata": {},
   "outputs": [],
   "source": [
    "traindataset['booking_status'].unique()#we have 0 for Not Canceled 1 for Canceled values"
   ]
  },
  {
   "cell_type": "code",
   "execution_count": null,
   "id": "72f2fd56",
   "metadata": {},
   "outputs": [],
   "source": [
    "traindataset['booking_status'].value_counts(normalize=True)#convert on normalization or %"
   ]
  },
  {
   "cell_type": "code",
   "execution_count": null,
   "id": "c3377ccc",
   "metadata": {
    "scrolled": false
   },
   "outputs": [],
   "source": [
    "#above it shows that  in train set  we have 67.23% Not Canceled and   32.7618% Canceled\n",
    "plt.figure(figsize=(7,6))\n",
    "sns.barplot(x=traindataset['booking_status'].unique(),y=traindataset['booking_status'].value_counts(normalize=True))\n",
    "plt.xlabel(\"Booking Status\", fontsize = 12, labelpad = 5)\n",
    "plt.ylabel(\"Percentage of Bookings\", fontsize = 12, labelpad = 5)\n",
    "#"
   ]
  },
  {
   "cell_type": "code",
   "execution_count": null,
   "id": "c0084a45",
   "metadata": {},
   "outputs": [],
   "source": [
    "#above it shows that  in train set  we have 67.23% Not Canceled and   32.7618% Canceled\n",
    "plt.figure(figsize=(7,6))\n",
    "sns.barplot(x=traindataset['booking_status'],y=traindataset['avg_price_per_room'].value_counts(normalize=True))\n",
    "plt.xlabel(\"Booking Status\", fontsize = 12, labelpad = 5)\n",
    "plt.ylabel(\"Price % of Bookings\", fontsize = 12, labelpad = 5)"
   ]
  },
  {
   "cell_type": "code",
   "execution_count": null,
   "id": "c45bbe35",
   "metadata": {},
   "outputs": [],
   "source": [
    "#its clear that most off the booking were canncel bcoz of high cost \n",
    "plt.figure(figsize=(20,5))\n",
    "\n",
    "sns.boxplot(x=traindataset['lead_time'],color='Red')"
   ]
  },
  {
   "cell_type": "code",
   "execution_count": null,
   "id": "01a9903d",
   "metadata": {},
   "outputs": [],
   "source": [
    "#there are lot of outlier(is abnormally large or small values that can cause noise in data) fall above 300\n",
    "labels = ['Direct', 'Corporate', 'Online TA/offlineTA', 'Avivation ','group']\n",
    "ax=plt.subplots(figsize=(10,6))\n",
    "sns.barplot(traindataset['market_segment_type'],traindataset['lead_time'])\n",
    "#ax.scatter(traindataset['market_segment_type'],traindataset['lead_time'])\n",
    "plt.xlabel('market_segment_type')\n",
    "plt.ylabel(' Number of days between the date of booking and the arrival date')\n",
    "plt.xticks([0,1,2,3,4],labels)\n",
    "\n",
    "plt.show()"
   ]
  },
  {
   "cell_type": "code",
   "execution_count": null,
   "id": "2f573fc3",
   "metadata": {},
   "outputs": [],
   "source": [
    "#here we see that Avivation have min no of waiting days resone bcoze  Avivation(piolets,airhostig need immeededt booking )\n",
    "\n",
    "#Full Dataset\n",
    "traindataset.describe()\n",
    "categoricalV1=traindataset.drop(columns=['booking_status','arrival_date'])\n"
   ]
  },
  {
   "cell_type": "code",
   "execution_count": null,
   "id": "6891cb08",
   "metadata": {},
   "outputs": [],
   "source": [
    "categoricalV1.head(10)"
   ]
  },
  {
   "cell_type": "code",
   "execution_count": null,
   "id": "5aac47a1",
   "metadata": {},
   "outputs": [],
   "source": [
    "traindataset['avg_price_per_room'].unique()"
   ]
  },
  {
   "cell_type": "code",
   "execution_count": null,
   "id": "34952262",
   "metadata": {},
   "outputs": [],
   "source": [
    "traindataset['market_segment_type'].unique()"
   ]
  },
  {
   "cell_type": "code",
   "execution_count": null,
   "id": "40f77e43",
   "metadata": {},
   "outputs": [],
   "source": [
    "#grp=traindataset.groupby(['datetimeyear','lead_time','no_of_week_nights','avg_price_per_room']).mean()\n",
    "#grp.head(20)\n"
   ]
  },
  {
   "cell_type": "code",
   "execution_count": null,
   "id": "84c3ac0a",
   "metadata": {},
   "outputs": [],
   "source": [
    "x = traindataset['booking_status'].value_counts()\n",
    "plt.pie(x,labels=['Not Canceled', 'Canceled']);"
   ]
  },
  {
   "cell_type": "code",
   "execution_count": null,
   "id": "157a6ff9",
   "metadata": {},
   "outputs": [],
   "source": [
    "grp=traindataset.groupby(['repeated_guest','booking_status']).size()\n",
    "grp.plot(kind='bar')\n",
    "\n"
   ]
  },
  {
   "cell_type": "code",
   "execution_count": null,
   "id": "fc2f1d88",
   "metadata": {},
   "outputs": [],
   "source": [
    "#(1,1) means when bboking is canceled and custmer is repeted guest the entery is almost Zero\n",
    "\n",
    "total_no_of_previous_cancellations=traindataset['no_of_previous_cancellations'].sum()\n",
    "total_no_of_previous_cancellations"
   ]
  },
  {
   "cell_type": "code",
   "execution_count": null,
   "id": "5ac1538a",
   "metadata": {},
   "outputs": [],
   "source": [
    "traindataset.describe()\n"
   ]
  },
  {
   "cell_type": "code",
   "execution_count": null,
   "id": "6940a7d4",
   "metadata": {},
   "outputs": [],
   "source": [
    "st=traindataset.loc[(traindataset['booking_status'] == 1 )& (traindataset['no_of_previous_cancellations']>0) ]"
   ]
  },
  {
   "cell_type": "code",
   "execution_count": null,
   "id": "e70d9e03",
   "metadata": {},
   "outputs": [],
   "source": [
    "#st shows booking_status which were cancelled and also have 'no_of_previous_cancellations >0\n",
    "#so % will bw [0, 1], labels=['Not Canceled', 'Canceled']\n",
    "CANpre=(st.shape[0]/traindataset.shape[0])*100\n",
    "CANpre"
   ]
  },
  {
   "cell_type": "code",
   "execution_count": null,
   "id": "b8cd761b",
   "metadata": {},
   "outputs": [],
   "source": [
    "max_price=traindataset['avg_price_per_room'].max()\n",
    "st=traindataset.loc[(traindataset['booking_status'] == 1 )& (traindataset['avg_price_per_room']>=103.4788680597679)]\n",
    "st.shape[0]"
   ]
  },
  {
   "cell_type": "code",
   "execution_count": null,
   "id": "f0b94d85",
   "metadata": {},
   "outputs": [],
   "source": [
    "CANpre=(st.shape[0]/traindataset.shape[0])*100\n",
    "CANpre"
   ]
  },
  {
   "cell_type": "code",
   "execution_count": null,
   "id": "71fced0f",
   "metadata": {},
   "outputs": [],
   "source": [
    "traindataset['avg_price_per_room'].max()"
   ]
  },
  {
   "cell_type": "code",
   "execution_count": null,
   "id": "3cebefab",
   "metadata": {},
   "outputs": [],
   "source": [
    "traindataset['avg_price_per_room'].min()"
   ]
  },
  {
   "cell_type": "code",
   "execution_count": null,
   "id": "cd8f0358",
   "metadata": {},
   "outputs": [],
   "source": [
    "traindataset['avg_price_per_room'].mean()"
   ]
  },
  {
   "cell_type": "code",
   "execution_count": null,
   "id": "df211cb6",
   "metadata": {},
   "outputs": [],
   "source": [
    "list1=list(traindataset.columns)\n"
   ]
  },
  {
   "cell_type": "code",
   "execution_count": null,
   "id": "09f93071",
   "metadata": {},
   "outputs": [],
   "source": [
    "#label\n",
    "canc_Y=traindataset['booking_status']"
   ]
  },
  {
   "cell_type": "code",
   "execution_count": null,
   "id": "3f5b17b2",
   "metadata": {},
   "outputs": [],
   "source": [
    "#feature\n",
    "canc_X=traindataset.drop('booking_status',axis=1)\n"
   ]
  },
  {
   "cell_type": "markdown",
   "id": "88e7ef03",
   "metadata": {},
   "source": [
    "StandardScaler is used \n",
    " is to normalize/standardize  data "
   ]
  },
  {
   "cell_type": "code",
   "execution_count": null,
   "id": "79810929",
   "metadata": {},
   "outputs": [],
   "source": [
    "'''from sklearn.preprocessing import StandardScaler\n",
    "scaler = StandardScaler()\n",
    "scaler.fit(traindataset)\n",
    "scaled_features = scaler.transform(traindataset)\n",
    "scaled_data = pd.DataFrame(scaled_features, columns =traindataset.columns)\n",
    "#label\n",
    "canc_Y=scaled_data['booking_status']\n",
    "#feature\n",
    "canc_X=scaled_data.drop('booking_status',axis=1)\n",
    "canc_Y\n",
    "canc_X'''"
   ]
  },
  {
   "cell_type": "markdown",
   "id": "d9becaf1",
   "metadata": {},
   "source": [
    "Train Test split\n",
    "Split arrays or matrices into random train and test subsets."
   ]
  },
  {
   "cell_type": "code",
   "execution_count": null,
   "id": "e1695d49",
   "metadata": {},
   "outputs": [],
   "source": [
    "x_training_data, x_test_data, y_training_data, y_test_data = train_test_split(canc_X,canc_Y,test_size=0.33, random_state=42)\n"
   ]
  },
  {
   "cell_type": "markdown",
   "id": "54e6da66",
   "metadata": {},
   "source": [
    "KNeighborsClassifier"
   ]
  },
  {
   "cell_type": "code",
   "execution_count": null,
   "id": "97eb3076",
   "metadata": {},
   "outputs": [],
   "source": [
    "from sklearn.neighbors import KNeighborsClassifier"
   ]
  },
  {
   "cell_type": "code",
   "execution_count": null,
   "id": "313815b3",
   "metadata": {},
   "outputs": [],
   "source": [
    "model = KNeighborsClassifier(n_neighbors = 3)\n",
    "model.fit(x_training_data, y_training_data)\n",
    "predictions = model.predict(x_test_data)\n"
   ]
  },
  {
   "cell_type": "code",
   "execution_count": null,
   "id": "bf9063dc",
   "metadata": {},
   "outputs": [],
   "source": [
    "print(\"Test set prediction :{}\".format(predictions))"
   ]
  },
  {
   "cell_type": "code",
   "execution_count": null,
   "id": "2f85bd14",
   "metadata": {},
   "outputs": [],
   "source": [
    "y_score=model.score(x_test_data,y_test_data)\n",
    "print(\"Test set accuracy :{:.2f}\".format(y_score))"
   ]
  },
  {
   "cell_type": "markdown",
   "id": "bec9c933",
   "metadata": {},
   "source": [
    "WE see that our is about 83% accurate ,meaning the model predicted the class correctly for 83% of the samples in the testdata"
   ]
  },
  {
   "cell_type": "code",
   "execution_count": null,
   "id": "4754a21d",
   "metadata": {},
   "outputs": [],
   "source": [
    "plt.subplots(figsize=(10,6))\n",
    "traing_acuracy=[]\n",
    "test_accuracy=[]\n",
    "neighbors_settings=range(1,11)\n",
    "\n",
    "for i in neighbors_settings:\n",
    "    model = KNeighborsClassifier(n_neighbors = i)\n",
    "    model.fit(x_training_data, y_training_data)\n",
    "    traing_acuracy.append(model.score(x_training_data, y_training_data))\n",
    "    test_accuracy.append(model.score(x_test_data, y_test_data))\n",
    "\n",
    "plt.plot(neighbors_settings,traing_acuracy,label=\"training accuracy\")\n",
    "plt.plot(neighbors_settings,test_accuracy,label=\"test accuracy\")\n",
    "plt.ylabel(\"Accuracy\")\n",
    "plt.xlabel(\"KNeighbors\")\n",
    "plt.legend()\n",
    "    "
   ]
  },
  {
   "cell_type": "code",
   "execution_count": null,
   "id": "ed9b4e07",
   "metadata": {},
   "outputs": [],
   "source": [
    " '''def plot_classification():\n",
    "    h = .02\n",
    "    n_neighbors = 9\n",
    "    X = canc_X.values[:10, [1,4]] #trim values to 10 entries and only columns 2 and 5 (indices 1, 4) canc_X,canc_Y\n",
    "    y = canc_Y[:10, ] #trim outcome column, too\n",
    "\n",
    "    clf = KNeighborsClassifier(n_neighbors=5, weights='distance')\n",
    "    clf.fit(X, y)\n",
    "\n",
    "    x_min, x_max = X[:, 0].min() - 1, X[:, 0].max() + 1\n",
    "    y_min, y_max = y[:, 1].min() - 1, y[:, 1].max() + 1\n",
    "    xx, yy = np.meshgrid(np.arange(x_min, x_max, h), np.arange(y_min, y_max, h))\n",
    "    Z = clf.predict(np.c_[xx.ravel(), yy.ravel()]) #no errors here, but it's  not moving on until computer crashes\n",
    "\n",
    "    cmap_light = ListedColormap(['#FFAAAA', '#AAFFAA','#00AAFF'])\n",
    "    cmap_bold = ListedColormap(['#FF0000', '#00FF00','#00AAFF'])\n",
    "    Z = Z.reshape(xx.shape)\n",
    "    plt.figure()\n",
    "    plt.pcolormesh(xx, yy, Z, cmap=cmap_light)\n",
    "    plt.scatter(X[:, 0], X[:, 1], c=y, cmap=cmap_bold)\n",
    "    plt.xlim(xx.min(), xx.max())\n",
    "    plt.ylim(yy.min(), yy.max())\n",
    "    plt.title(\"Classification (k = %i)\" % (n_neighbors))\n",
    "plot_classification()'''"
   ]
  },
  {
   "cell_type": "code",
   "execution_count": null,
   "id": "e5a71aea",
   "metadata": {},
   "outputs": [],
   "source": [
    "from sklearn.linear_model import LogisticRegression\n",
    "logistic=LogisticRegression()\n",
    "logistic.fit(x_training_data,y_training_data)"
   ]
  },
  {
   "cell_type": "code",
   "execution_count": null,
   "id": "ce3768e9",
   "metadata": {},
   "outputs": [],
   "source": [
    "#predicting the test data\n",
    "y_pred= logistic.predict(x_test_data)"
   ]
  },
  {
   "cell_type": "code",
   "execution_count": null,
   "id": "28eefe8e",
   "metadata": {},
   "outputs": [],
   "source": [
    "from sklearn.metrics import accuracy_score\n",
    "from sklearn.metrics import classification_report\n",
    "accuracy_score(y_test_data,y_pred)"
   ]
  },
  {
   "cell_type": "code",
   "execution_count": null,
   "id": "3f0e81dc",
   "metadata": {},
   "outputs": [],
   "source": [
    "classification_report(y_test_data,y_pred)"
   ]
  },
  {
   "cell_type": "markdown",
   "id": "6582230a",
   "metadata": {},
   "source": [
    "AUC - ROC Curve\n",
    "In classification, there are many different evaluation metrics. The most popular is accuracy, which measures how often the model is correct. This is a great metric because it is easy to understand and getting the most correct guesses is often desired. There are some cases where you might consider using another evaluation metric.\n",
    "\n",
    "Another common metric is AUC, area under the receiver operating characteristic (ROC) curve. The Reciever operating characteristic curve plots the true positive (TP) rate versus the false positive (FP) rate at different classification thresholds. The thresholds are different probability cutoffs that separate the two classes in binary classification. It uses probability to tell us how well a model separates the classes."
   ]
  },
  {
   "cell_type": "code",
   "execution_count": null,
   "id": "5af81df1",
   "metadata": {},
   "outputs": [],
   "source": [
    "from xgboost import XGBClassifier\n",
    "from sklearn.metrics import roc_auc_score\n",
    "#model and training\n",
    "my_model_xgb = XGBClassifier(n_estimators=1000,seed=0,learning_rate=0.05)\n",
    "\n",
    "#my_model.fit(X_train_full,y)\n",
    "my_model_xgb.fit(x_training_data,y_training_data,early_stopping_rounds=5,\n",
    "            eval_set=[(x_test_data,y_test_data)],verbose=False)\n",
    "\n",
    "# evaluate the model\n",
    "acc = accuracy_score(y_test_data, my_model_xgb.predict(x_test_data))\n",
    "#roc = cohen_kappa_score(y_valid,my_model_xgb.predict(X_valid))\n",
    "roc = roc_auc_score(y_test_data,my_model_xgb.predict(x_test_data))\n",
    "print(\"Baseline XGBClassifier Model roc_auc:\",roc)\n",
    "print(\"Baseline XGBClassifier Model accuracy_score:\",acc)"
   ]
  },
  {
   "cell_type": "code",
   "execution_count": null,
   "id": "03481bc9",
   "metadata": {},
   "outputs": [],
   "source": [
    "importances = my_model_xgb.feature_importances_\n",
    "sorted_indices = np.argsort(importances)[::-1]\n",
    "plt.title('Feature Importance')\n",
    "plt.bar(range(x_training_data.shape[1]), importances[sorted_indices], align='center')\n",
    "plt.xticks(range(X_train.shape[1]), x_training_data.columns[sorted_indices], rotation=90)\n",
    "plt.tight_layout()\n",
    "f = plt.figure()\n",
    "f.set_figwidth(5)\n",
    "f.set_figheight(3)\n",
    "plt.show()"
   ]
  },
  {
   "cell_type": "code",
   "execution_count": null,
   "id": "da305279",
   "metadata": {},
   "outputs": [],
   "source": [
    "xgb_pred = my_model_xgb.predict_proba(test_dataset)[:,1]"
   ]
  },
  {
   "cell_type": "code",
   "execution_count": null,
   "id": "d2a6b237",
   "metadata": {},
   "outputs": [],
   "source": [
    "xgb_pred\n",
    "l=[]\n",
    "for i in xgb_pred:\n",
    "    k=round(i, 0)\n",
    "    l.append(int(k))\n"
   ]
  },
  {
   "cell_type": "code",
   "execution_count": null,
   "id": "3d4ad257",
   "metadata": {},
   "outputs": [],
   "source": [
    "output = pd.DataFrame({'id': test_dataset.ID, 'booking_status': l})\n",
    "output.to_csv('C:/Users/ASU/Desktop/IITD/DATAScience/PythonProjectDataset/submission.csv', index=False)"
   ]
  },
  {
   "cell_type": "code",
   "execution_count": null,
   "id": "56b784a0",
   "metadata": {},
   "outputs": [],
   "source": [
    "test_dataset.info()"
   ]
  },
  {
   "cell_type": "code",
   "execution_count": null,
   "id": "88a16271",
   "metadata": {},
   "outputs": [],
   "source": []
  },
  {
   "cell_type": "code",
   "execution_count": null,
   "id": "38c23bf1",
   "metadata": {},
   "outputs": [],
   "source": []
  },
  {
   "cell_type": "code",
   "execution_count": null,
   "id": "422fa2a9",
   "metadata": {},
   "outputs": [],
   "source": []
  }
 ],
 "metadata": {
  "kernelspec": {
   "display_name": "Python 3 (ipykernel)",
   "language": "python",
   "name": "python3"
  },
  "language_info": {
   "codemirror_mode": {
    "name": "ipython",
    "version": 3
   },
   "file_extension": ".py",
   "mimetype": "text/x-python",
   "name": "python",
   "nbconvert_exporter": "python",
   "pygments_lexer": "ipython3",
   "version": "3.9.12"
  }
 },
 "nbformat": 4,
 "nbformat_minor": 5
}
